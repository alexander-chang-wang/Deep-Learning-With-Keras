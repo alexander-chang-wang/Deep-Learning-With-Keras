{
 "cells": [
  {
   "cell_type": "code",
   "execution_count": 1,
   "metadata": {},
   "outputs": [
    {
     "name": "stderr",
     "output_type": "stream",
     "text": [
      "Using TensorFlow backend.\n"
     ]
    }
   ],
   "source": [
    "# Get the MNIST dataset, in the form of four Numpy arrays\n",
    "\n",
    "from keras.datasets import mnist\n",
    "(train_images, train_labels), (test_images, test_labels) = mnist.load_data()"
   ]
  },
  {
   "cell_type": "code",
   "execution_count": 2,
   "metadata": {},
   "outputs": [
    {
     "name": "stdout",
     "output_type": "stream",
     "text": [
      "(60000, 28, 28)\n",
      "60000\n",
      "[5 0 4 ... 5 6 8]\n",
      "(10000, 28, 28)\n",
      "10000\n",
      "[7 2 1 ... 4 5 6]\n"
     ]
    }
   ],
   "source": [
    "# Make sure that the data imported is correct\n",
    "\n",
    "print(train_images.shape)\n",
    "print(len(train_labels))\n",
    "print(train_labels)\n",
    "\n",
    "print(test_images.shape)\n",
    "print(len(test_labels))\n",
    "print(test_labels)"
   ]
  },
  {
   "cell_type": "code",
   "execution_count": 3,
   "metadata": {},
   "outputs": [
    {
     "name": "stdout",
     "output_type": "stream",
     "text": [
      "3\n",
      "(60000, 28, 28)\n",
      "uint8\n"
     ]
    },
    {
     "data": {
      "text/plain": [
       "<Figure size 640x480 with 1 Axes>"
      ]
     },
     "metadata": {},
     "output_type": "display_data"
    }
   ],
   "source": [
    "# Display an image using Matplotlib\n",
    "\n",
    "print(train_images.ndim)\n",
    "print(train_images.shape)\n",
    "print(train_images.dtype)\n",
    "\n",
    "digit = train_images[4]\n",
    "\n",
    "import matplotlib.pyplot as plt\n",
    "plt.imshow(digit, cmap=plt.cm.binary)\n",
    "plt.show()"
   ]
  },
  {
   "cell_type": "code",
   "execution_count": 4,
   "metadata": {},
   "outputs": [],
   "source": [
    "# Import the modules that we will need\n",
    "\n",
    "from keras import models\n",
    "from keras import layers"
   ]
  },
  {
   "cell_type": "code",
   "execution_count": 5,
   "metadata": {
    "scrolled": true
   },
   "outputs": [
    {
     "name": "stdout",
     "output_type": "stream",
     "text": [
      "WARNING:tensorflow:From C:\\Users\\3skis\\Anaconda3\\lib\\site-packages\\tensorflow\\python\\ops\\resource_variable_ops.py:435: colocate_with (from tensorflow.python.framework.ops) is deprecated and will be removed in a future version.\n",
      "Instructions for updating:\n",
      "Colocations handled automatically by placer.\n"
     ]
    }
   ],
   "source": [
    "\"\"\"\n",
    "The core building block of neural networks is the layer, a data-processing \n",
    "module that you can think of as a filter for data. Layers extract representations\n",
    "out of the data fed into them - hopefully ones that are meaningful for the \n",
    "problem at hand. Most of deep learning consists of chaining together simple \n",
    "layers that will implement a form of progressive data distillation.\n",
    "\"\"\"\n",
    "\n",
    "\"\"\"\n",
    "Here, our network consists of a sequence of two Dense layers, which are densely\n",
    "connected (aka fully connected) neural layers. The second (and last) layer is a\n",
    "10-way softmax layer, which means it will return an array of 10 probability \n",
    "scores (summing to 1). Each score will be the probability that the current digit\n",
    "image belongs to one of our 10 digit classes.\n",
    "\"\"\"\n",
    "\n",
    "network = models.Sequential()\n",
    "network.add(layers.Dense(512, activation='relu', input_shape=(28 * 28,)))\n",
    "network.add(layers.Dense(10, activation='softmax'))"
   ]
  },
  {
   "cell_type": "code",
   "execution_count": 6,
   "metadata": {},
   "outputs": [],
   "source": [
    "\"\"\"\n",
    "To make the network ready for training, we need to pick three more things, as\n",
    "part of the compilation step:\n",
    "\n",
    "A loss function: How the network will be able to measure its performance on \n",
    "the training data, and thus how it will be able to steer itself in the right\n",
    "direction.\n",
    "\n",
    "An optimizer: The mechanism through which the network will update itself based\n",
    "on the data it sees and its loss function.\n",
    "\n",
    "Metrics to monitor during training and testing: Here, we'll only care about\n",
    "accuracy (the fraction of the images that were correctly classified).\n",
    "\"\"\"\n",
    "\n",
    "# The compilation step\n",
    "\n",
    "network.compile(optimizer='rmsprop', loss='categorical_crossentropy', \\\n",
    "                metrics=['accuracy'])\n",
    "\n",
    "\n",
    "# Preparing the image data\n",
    "\n",
    "\"\"\"\n",
    "Before training, we'll preprocess the data by reshaping it into the shape the\n",
    "network expects and scaling it so that all values are in the [0, 1] interval.\n",
    "Previously, our training images, for instance, were stored in an array of shape\n",
    "(60000, 28, 28) of type unit8 with values in the [0, 255] interval. We transform\n",
    "it into a float32 array of shape (60000, 28 * 28) with values between 0 and 1.\n",
    "\"\"\"\n",
    "\n",
    "train_images = train_images.reshape((60000, 28 * 28))\n",
    "train_images = train_images.astype('float32') / 255\n",
    "\n",
    "test_images = test_images.reshape((10000, 28 * 28))\n",
    "test_images = test_images.astype('float32') / 255\n",
    "\n",
    "\n",
    "# Preparing the labels\n",
    "\n",
    "\"\"\"\n",
    "We also need to categorically encode the labels.\n",
    "\"\"\"\n",
    "\n",
    "from keras.utils import to_categorical\n",
    "\n",
    "train_labels = to_categorical(train_labels)\n",
    "test_labels = to_categorical(test_labels)"
   ]
  },
  {
   "cell_type": "code",
   "execution_count": 7,
   "metadata": {},
   "outputs": [
    {
     "name": "stdout",
     "output_type": "stream",
     "text": [
      "WARNING:tensorflow:From C:\\Users\\3skis\\Anaconda3\\lib\\site-packages\\tensorflow\\python\\ops\\math_ops.py:3066: to_int32 (from tensorflow.python.ops.math_ops) is deprecated and will be removed in a future version.\n",
      "Instructions for updating:\n",
      "Use tf.cast instead.\n",
      "Epoch 1/5\n",
      "60000/60000 [==============================] - 3s 56us/step - loss: 0.2607 - accuracy: 0.9248\n",
      "Epoch 2/5\n",
      "60000/60000 [==============================] - 3s 48us/step - loss: 0.1052 - accuracy: 0.9696\n",
      "Epoch 3/5\n",
      "60000/60000 [==============================] - 3s 45us/step - loss: 0.0692 - accuracy: 0.9792\n",
      "Epoch 4/5\n",
      "60000/60000 [==============================] - 3s 45us/step - loss: 0.0506 - accuracy: 0.9844\n",
      "Epoch 5/5\n",
      "60000/60000 [==============================] - 3s 45us/step - loss: 0.0372 - accuracy: 0.9888\n"
     ]
    },
    {
     "data": {
      "text/plain": [
       "<keras.callbacks.callbacks.History at 0x1b33eb8e278>"
      ]
     },
     "execution_count": 7,
     "metadata": {},
     "output_type": "execute_result"
    }
   ],
   "source": [
    "\"\"\"\n",
    "We're now ready to train the network, which in Keras, is done via a call to \n",
    "the network's fit method - we fit the model to its training data.\n",
    "\"\"\"\n",
    "\n",
    "network.fit(train_images, train_labels, epochs=5, batch_size=128)"
   ]
  },
  {
   "cell_type": "code",
   "execution_count": 8,
   "metadata": {},
   "outputs": [
    {
     "name": "stdout",
     "output_type": "stream",
     "text": [
      "10000/10000 [==============================] - 0s 19us/step\n",
      "test_acc: 0.9779999852180481\n"
     ]
    }
   ],
   "source": [
    "\"\"\"\n",
    "We quickly reach an accuracy of 0.989 on the training data. Now let's check\n",
    "that the model performs well on the test set, too.\n",
    "\"\"\"\n",
    "\n",
    "\"\"\"\n",
    "The test-set accuracy ends up being lower than the training set accuracy. \n",
    "This gap between training accuracy and test accuracy is an example of \n",
    "overfitting: the fact that machine-learning models tend to perform worse on\n",
    "new data than on their training data.\n",
    "\"\"\"\n",
    "\n",
    "# Check that the model performs well on the test set, too\n",
    "\n",
    "test_loss, test_acc = network.evaluate(test_images, test_labels)\n",
    "\n",
    "print('test_acc:', test_acc)"
   ]
  },
  {
   "cell_type": "code",
   "execution_count": null,
   "metadata": {},
   "outputs": [],
   "source": []
  }
 ],
 "metadata": {
  "kernelspec": {
   "display_name": "Python 3",
   "language": "python",
   "name": "python3"
  },
  "language_info": {
   "codemirror_mode": {
    "name": "ipython",
    "version": 3
   },
   "file_extension": ".py",
   "mimetype": "text/x-python",
   "name": "python",
   "nbconvert_exporter": "python",
   "pygments_lexer": "ipython3",
   "version": "3.7.3"
  }
 },
 "nbformat": 4,
 "nbformat_minor": 2
}
