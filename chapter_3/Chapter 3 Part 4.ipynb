{
 "cells": [
  {
   "cell_type": "code",
   "execution_count": 2,
   "metadata": {},
   "outputs": [],
   "source": [
    "# Stopped at page 105 of PDF"
   ]
  },
  {
   "cell_type": "markdown",
   "metadata": {},
   "source": [
    "# The Reuters Dataset\n",
    "\n",
    "You'll work with the <i>Reuters dataset</i>, a set of short newswires and their topics, published by Reuters in 1986. It's a simple, widely used dataset for text classification. There are 46 different topics; some are mosre represented than others, but each topic has at least 10 examples in the training set. Like IMDB and MNIST, the Reuters dataset comes packaged as part of Keras."
   ]
  },
  {
   "cell_type": "code",
   "execution_count": 3,
   "metadata": {},
   "outputs": [
    {
     "name": "stderr",
     "output_type": "stream",
     "text": [
      "Using TensorFlow backend.\n"
     ]
    }
   ],
   "source": [
    "# Loading the Reuters dataset\n",
    "\n",
    "from keras.datasets import reuters\n",
    "\n",
    "(train_data, train_labels), (test_data, test_labels) = reuters.load_data(num_words=10000)"
   ]
  },
  {
   "cell_type": "code",
   "execution_count": 4,
   "metadata": {},
   "outputs": [
    {
     "name": "stdout",
     "output_type": "stream",
     "text": [
      "8982\n",
      "2246\n"
     ]
    }
   ],
   "source": [
    "\"\"\"\n",
    "As with the IMDB dataset, the argument num_words=10000 restricts the data to the\n",
    "10,000 most frequently occuring words found in the data.\n",
    "\"\"\"\n",
    "\n",
    "print(len(train_data))\n",
    "print(len(test_data))"
   ]
  },
  {
   "cell_type": "code",
   "execution_count": 5,
   "metadata": {},
   "outputs": [
    {
     "name": "stdout",
     "output_type": "stream",
     "text": [
      "[1, 245, 273, 207, 156, 53, 74, 160, 26, 14, 46, 296, 26, 39, 74, 2979, 3554, 14, 46, 4689, 4329, 86, 61, 3499, 4795, 14, 61, 451, 4329, 17, 12]\n"
     ]
    }
   ],
   "source": [
    "# As with the IMDB reviews, each example is a list of integers (word indeices)\n",
    "\n",
    "print(train_data[10])"
   ]
  },
  {
   "cell_type": "code",
   "execution_count": 6,
   "metadata": {},
   "outputs": [
    {
     "name": "stdout",
     "output_type": "stream",
     "text": [
      "? ? ? said as a result of its december acquisition of space co it expects earnings per share in 1987 of 1 15 to 1 30 dlrs per share up from 70 cts in 1986 the company said pretax net should rise to nine to 10 mln dlrs from six mln dlrs in 1986 and rental operation revenues to 19 to 22 mln dlrs from 12 5 mln dlrs it said cash flow per share this year should be 2 50 to three dlrs reuter 3\n"
     ]
    }
   ],
   "source": [
    "# Here is how you can decode it back to words\n",
    "\n",
    "word_index = reuters.get_word_index()\n",
    "reverse_word_index = dict([(value, key) for (key, value) in word_index.items()])\n",
    "decoded_newswire = ' '.join([reverse_word_index.get(i - 3, '?') for i in \\\n",
    "                             train_data[0]])\n",
    "\n",
    "print(decoded_newswire)"
   ]
  },
  {
   "cell_type": "code",
   "execution_count": 7,
   "metadata": {},
   "outputs": [
    {
     "name": "stdout",
     "output_type": "stream",
     "text": [
      "3\n"
     ]
    }
   ],
   "source": [
    "# The label associated with an example is an integer between 0 and 45 - a topic\n",
    "# index.\n",
    "\n",
    "print(train_labels[10])"
   ]
  },
  {
   "cell_type": "code",
   "execution_count": 8,
   "metadata": {},
   "outputs": [],
   "source": [
    "# Vectorize the data (same as the the code in previous notebooks in chapter 3)\n",
    "\n",
    "import numpy as np\n",
    "\n",
    "def vectorize_sequences(sequences, dimension=10000):\n",
    "    results = np.zeros((len(sequences), dimension))\n",
    "    for i, sequence in enumerate(sequences):\n",
    "        results[i, sequence] = 1.\n",
    "    return results\n",
    "\n",
    "x_train = vectorize_sequences(train_data)\n",
    "x_test = vectorize_sequences(test_data)"
   ]
  },
  {
   "cell_type": "code",
   "execution_count": 9,
   "metadata": {},
   "outputs": [],
   "source": [
    "\"\"\"\n",
    "To vectorize the labels, there are two possibilities: you can cast the label list\n",
    "as an integer tensor, or you can use one-hot encoding. One-hot encoding is a \n",
    "widely used format for categorical data, also called categorical encoding. In this\n",
    "case, one-hot encoding of the labels consists of embedding each label as an all-\n",
    "zero vector with a 1 in the place of the label index.\n",
    "\"\"\"\n",
    "\n",
    "def to_one_hot(labels, dimension=46):\n",
    "    results = np.zeros((len(labels), dimension))\n",
    "    for i, label in enumerate(labels):\n",
    "        results[i, label] = 1.\n",
    "    return results\n",
    "\n",
    "one_hot_train_labels = to_one_hot(train_labels)\n",
    "ont_hot_test_labels = to_one_hot(test_labels)"
   ]
  },
  {
   "cell_type": "code",
   "execution_count": 10,
   "metadata": {},
   "outputs": [],
   "source": [
    "\"\"\"\n",
    "Note that there is a built-in way to do this in Keras, which you've already\n",
    "seen in action in the MNIST example.\n",
    "\"\"\"\n",
    "\n",
    "from keras.utils.np_utils import to_categorical\n",
    "\n",
    "one_hot_train_labels = to_categorical(train_labels)\n",
    "one_hot_test_labels = to_categorical(test_labels)"
   ]
  },
  {
   "cell_type": "markdown",
   "metadata": {},
   "source": [
    "<h3>Building your network</h3>\n",
    "\n",
    "This topic-classification problem looks similar to the previous movie-review classification problem: in both cases, you're trying to classify short snippets of text. But there is a new constraint here: the number of output classes has gone from 2 to 46. The dimensionality of the output space is much larger.\n",
    "\n",
    "In a stack of Dense layers like that you've been using, each layer can only access information present in the output of the previous layer. If one layer drops some information relevant to the classification problem, this problem can never be recovered by later layers; each layer can potentially become an information bottleneck. In the previous example, you used 16-dimensional intermediate layers, but a 16-dimensional space may be to limited to learn to separate 46 different classes: such small layers may act as information bottlenecks, permanently dropping relevant information.\n",
    "\n",
    "For this reason, you'll use larger layers (in this case, 64 units)."
   ]
  },
  {
   "cell_type": "code",
   "execution_count": 11,
   "metadata": {},
   "outputs": [
    {
     "name": "stdout",
     "output_type": "stream",
     "text": [
      "WARNING:tensorflow:From C:\\Users\\3skis\\Anaconda3\\lib\\site-packages\\tensorflow\\python\\ops\\resource_variable_ops.py:435: colocate_with (from tensorflow.python.framework.ops) is deprecated and will be removed in a future version.\n",
      "Instructions for updating:\n",
      "Colocations handled automatically by placer.\n"
     ]
    }
   ],
   "source": [
    "# Model definition\n",
    "\n",
    "from keras import models\n",
    "from keras import layers\n",
    "\n",
    "model = models.Sequential()\n",
    "model.add(layers.Dense(64, activation='relu', input_shape=(10000,)))\n",
    "model.add(layers.Dense(64, activation='relu'))\n",
    "model.add(layers.Dense(46, activation='softmax'))"
   ]
  },
  {
   "cell_type": "markdown",
   "metadata": {},
   "source": [
    "There are two other things you should note about this architecture:\n",
    "- You end the network with a Dense layer of size 46. This means for each input sample, the network will output a 46-dimensional vector. Each entry in this vector (each dimension) will encode a different output class.\n",
    "- The last layer uses a softmax activation. You saw this pattern in the MNIST example. It means the network will output a probability distribution over the 46 different output classes - for every input sample, the network will produce a 46-dimensional output vector, where the outpu[i] is the probability that the sample belongs to class i. The 46 scores will sum to 1."
   ]
  },
  {
   "cell_type": "code",
   "execution_count": 12,
   "metadata": {},
   "outputs": [],
   "source": [
    "# Compiling the model\n",
    "\n",
    "model.compile(optimizer='rmsprop',\n",
    "              loss='categorical_crossentropy',\n",
    "              metrics=['accuracy'])"
   ]
  },
  {
   "cell_type": "code",
   "execution_count": 13,
   "metadata": {},
   "outputs": [],
   "source": [
    "# Setting aside a validation set\n",
    "x_val = x_train[:1000]\n",
    "partial_x_train = x_train[1000:]\n",
    "\n",
    "y_val = one_hot_train_labels[:1000]\n",
    "partial_y_train = one_hot_train_labels[1000:]"
   ]
  },
  {
   "cell_type": "code",
   "execution_count": 14,
   "metadata": {},
   "outputs": [
    {
     "name": "stdout",
     "output_type": "stream",
     "text": [
      "WARNING:tensorflow:From C:\\Users\\3skis\\Anaconda3\\lib\\site-packages\\tensorflow\\python\\ops\\math_ops.py:3066: to_int32 (from tensorflow.python.ops.math_ops) is deprecated and will be removed in a future version.\n",
      "Instructions for updating:\n",
      "Use tf.cast instead.\n",
      "Train on 7982 samples, validate on 1000 samples\n",
      "Epoch 1/20\n",
      "7982/7982 [==============================] - 1s 186us/step - loss: 2.5308 - accuracy: 0.5293 - val_loss: 1.6810 - val_accuracy: 0.6410\n",
      "Epoch 2/20\n",
      "7982/7982 [==============================] - 1s 116us/step - loss: 1.3879 - accuracy: 0.7103 - val_loss: 1.2830 - val_accuracy: 0.7180\n",
      "Epoch 3/20\n",
      "7982/7982 [==============================] - 1s 123us/step - loss: 1.0308 - accuracy: 0.7772 - val_loss: 1.1278 - val_accuracy: 0.7520\n",
      "Epoch 4/20\n",
      "7982/7982 [==============================] - 1s 115us/step - loss: 0.8167 - accuracy: 0.8217 - val_loss: 1.0318 - val_accuracy: 0.7860\n",
      "Epoch 5/20\n",
      "7982/7982 [==============================] - 1s 117us/step - loss: 0.6530 - accuracy: 0.8592 - val_loss: 0.9521 - val_accuracy: 0.8020\n",
      "Epoch 6/20\n",
      "7982/7982 [==============================] - 1s 117us/step - loss: 0.5241 - accuracy: 0.8930 - val_loss: 0.9114 - val_accuracy: 0.8090\n",
      "Epoch 7/20\n",
      "7982/7982 [==============================] - 1s 116us/step - loss: 0.4232 - accuracy: 0.9122 - val_loss: 0.9308 - val_accuracy: 0.8030\n",
      "Epoch 8/20\n",
      "7982/7982 [==============================] - 1s 116us/step - loss: 0.3484 - accuracy: 0.9263 - val_loss: 0.8891 - val_accuracy: 0.8100\n",
      "Epoch 9/20\n",
      "7982/7982 [==============================] - 1s 117us/step - loss: 0.2902 - accuracy: 0.9369 - val_loss: 0.8995 - val_accuracy: 0.8120\n",
      "Epoch 10/20\n",
      "7982/7982 [==============================] - 1s 116us/step - loss: 0.2440 - accuracy: 0.9434 - val_loss: 0.8982 - val_accuracy: 0.8110\n",
      "Epoch 11/20\n",
      "7982/7982 [==============================] - 1s 117us/step - loss: 0.2091 - accuracy: 0.9479 - val_loss: 0.9065 - val_accuracy: 0.8160\n",
      "Epoch 12/20\n",
      "7982/7982 [==============================] - 1s 116us/step - loss: 0.1845 - accuracy: 0.9511 - val_loss: 0.9582 - val_accuracy: 0.8080\n",
      "Epoch 13/20\n",
      "7982/7982 [==============================] - 1s 124us/step - loss: 0.1684 - accuracy: 0.9530 - val_loss: 0.9490 - val_accuracy: 0.8240\n",
      "Epoch 14/20\n",
      "7982/7982 [==============================] - 1s 126us/step - loss: 0.1552 - accuracy: 0.9535 - val_loss: 0.9490 - val_accuracy: 0.8180\n",
      "Epoch 15/20\n",
      "7982/7982 [==============================] - 1s 118us/step - loss: 0.1424 - accuracy: 0.9545 - val_loss: 0.9811 - val_accuracy: 0.8180\n",
      "Epoch 16/20\n",
      "7982/7982 [==============================] - 1s 118us/step - loss: 0.1308 - accuracy: 0.9544 - val_loss: 1.0073 - val_accuracy: 0.7990\n",
      "Epoch 17/20\n",
      "7982/7982 [==============================] - 1s 118us/step - loss: 0.1227 - accuracy: 0.9577 - val_loss: 1.0239 - val_accuracy: 0.8080\n",
      "Epoch 18/20\n",
      "7982/7982 [==============================] - 1s 117us/step - loss: 0.1217 - accuracy: 0.9568 - val_loss: 1.0358 - val_accuracy: 0.8070\n",
      "Epoch 19/20\n",
      "7982/7982 [==============================] - 1s 114us/step - loss: 0.1160 - accuracy: 0.9573 - val_loss: 1.0979 - val_accuracy: 0.8020\n",
      "Epoch 20/20\n",
      "7982/7982 [==============================] - 1s 117us/step - loss: 0.1131 - accuracy: 0.9573 - val_loss: 1.0745 - val_accuracy: 0.8140\n"
     ]
    }
   ],
   "source": [
    "# Training the model\n",
    "\n",
    "history = model.fit(partial_x_train,\n",
    "                    partial_y_train,\n",
    "                    epochs=20,\n",
    "                    batch_size=512,\n",
    "                    validation_data=(x_val, y_val))"
   ]
  },
  {
   "cell_type": "code",
   "execution_count": 15,
   "metadata": {},
   "outputs": [
    {
     "name": "stdout",
     "output_type": "stream",
     "text": [
      "dict_keys(['val_loss', 'val_accuracy', 'loss', 'accuracy'])\n"
     ]
    }
   ],
   "source": [
    "# Print out the key values of the History object\n",
    "\n",
    "print(history.history.keys())"
   ]
  },
  {
   "cell_type": "code",
   "execution_count": 17,
   "metadata": {},
   "outputs": [
    {
     "data": {
      "image/png": "[encoded data removed]",
      "text/plain": [
       "<Figure size 432x288 with 1 Axes>"
      ]
     },
     "metadata": {
      "needs_background": "light"
     },
     "output_type": "display_data"
    }
   ],
   "source": [
    "# Plotting the training and validation loss\n",
    "\n",
    "import matplotlib.pyplot as plt\n",
    "\n",
    "loss = history.history['loss']\n",
    "val_loss = history.history['val_loss']\n",
    "\n",
    "epochs = range(1, len(loss) + 1)\n",
    "\n",
    "plt.plot(epochs, loss, 'bo', label='Training loss')\n",
    "plt.plot(epochs, val_loss, 'b', label='Validation loss')\n",
    "plt.title('Training and validation loss')\n",
    "plt.xlabel('Epochs')\n",
    "plt.ylabel('Loss')\n",
    "plt.legend()\n",
    "\n",
    "plt.show()"
   ]
  },
  {
   "cell_type": "code",
   "execution_count": 18,
   "metadata": {},
   "outputs": [
    {
     "data": {
      "image/png": "[encoded data removed]",
      "text/plain": [
       "<Figure size 432x288 with 1 Axes>"
      ]
     },
     "metadata": {
      "needs_background": "light"
     },
     "output_type": "display_data"
    }
   ],
   "source": [
    "# Plotting the training and validation accuracy\n",
    "\n",
    "plt.clf()\n",
    "\n",
    "acc = history.history['accuracy']\n",
    "val_acc = history.history['val_accuracy']\n",
    "\n",
    "plt.plot(epochs, acc, 'bo', label='Training acc')\n",
    "plt.plot(epochs, val_acc, 'b', label='Validation acc')\n",
    "plt.title('Training and validation accuracy')\n",
    "plt.xlabel('Epochs')\n",
    "plt.ylabel('Loss')\n",
    "plt.legend()\n",
    "\n",
    "plt.show()"
   ]
  },
  {
   "cell_type": "code",
   "execution_count": 19,
   "metadata": {},
   "outputs": [
    {
     "name": "stdout",
     "output_type": "stream",
     "text": [
      "Train on 7982 samples, validate on 1000 samples\n",
      "Epoch 1/9\n",
      "7982/7982 [==============================] - 1s 141us/step - loss: 2.6452 - accuracy: 0.5041 - val_loss: 1.7115 - val_accuracy: 0.6480\n",
      "Epoch 2/9\n",
      "7982/7982 [==============================] - 1s 117us/step - loss: 1.3999 - accuracy: 0.7093 - val_loss: 1.2867 - val_accuracy: 0.7260\n",
      "Epoch 3/9\n",
      "7982/7982 [==============================] - 1s 116us/step - loss: 1.0435 - accuracy: 0.7819 - val_loss: 1.1294 - val_accuracy: 0.7690\n",
      "Epoch 4/9\n",
      "7982/7982 [==============================] - 1s 118us/step - loss: 0.8239 - accuracy: 0.8276 - val_loss: 1.0355 - val_accuracy: 0.7920\n",
      "Epoch 5/9\n",
      "7982/7982 [==============================] - 1s 117us/step - loss: 0.6554 - accuracy: 0.8627 - val_loss: 0.9747 - val_accuracy: 0.7980\n",
      "Epoch 6/9\n",
      "7982/7982 [==============================] - 1s 118us/step - loss: 0.5207 - accuracy: 0.8908 - val_loss: 0.9259 - val_accuracy: 0.8150\n",
      "Epoch 7/9\n",
      "7982/7982 [==============================] - 1s 116us/step - loss: 0.4189 - accuracy: 0.9110 - val_loss: 0.9080 - val_accuracy: 0.8220\n",
      "Epoch 8/9\n",
      "7982/7982 [==============================] - 1s 116us/step - loss: 0.3426 - accuracy: 0.9246 - val_loss: 0.8920 - val_accuracy: 0.8250\n",
      "Epoch 9/9\n",
      "7982/7982 [==============================] - 1s 117us/step - loss: 0.2833 - accuracy: 0.9369 - val_loss: 0.8991 - val_accuracy: 0.8240\n",
      "2246/2246 [==============================] - 1s 272us/step\n"
     ]
    }
   ],
   "source": [
    "\"\"\"\n",
    "The network begins to overfit after nine epochs. Let's train a new network from\n",
    "scratch for nine epochs and then evaluate it on the test set.\n",
    "\"\"\"\n",
    "\n",
    "# Retraining a model from scratch\n",
    "\n",
    "model = models.Sequential()\n",
    "model.add(layers.Dense(64, activation='relu', input_shape=(10000,)))\n",
    "model.add(layers.Dense(64, activation='relu'))\n",
    "model.add(layers.Dense(46, activation='softmax'))\n",
    "\n",
    "model.compile(optimizer='rmsprop',\n",
    "              loss='categorical_crossentropy',\n",
    "              metrics=['accuracy'])\n",
    "\n",
    "model.fit(partial_x_train,\n",
    "          partial_y_train,\n",
    "          epochs=9,\n",
    "          batch_size=512,\n",
    "          validation_data=(x_val, y_val))\n",
    "\n",
    "results = model.evaluate(x_test, one_hot_test_labels)"
   ]
  },
  {
   "cell_type": "code",
   "execution_count": 20,
   "metadata": {},
   "outputs": [
    {
     "name": "stdout",
     "output_type": "stream",
     "text": [
      "[0.9680644056145251, 0.7898486256599426]\n"
     ]
    }
   ],
   "source": [
    "# Here are the final results\n",
    "\n",
    "print(results)"
   ]
  },
  {
   "cell_type": "code",
   "execution_count": 21,
   "metadata": {},
   "outputs": [
    {
     "name": "stdout",
     "output_type": "stream",
     "text": [
      "[False False False ... False False False]\n",
      "0.19011576135351738\n"
     ]
    }
   ],
   "source": [
    "\"\"\"\n",
    "This approacch reaches an accuracy of ~80%. With a balanced binary classification\n",
    "problem, the accuracy reached by a purely random classifier would be 50%. But in\n",
    "this case it's closer to 19%, so the results seem pretty good, at least when\n",
    "compared to a random baseline.\n",
    "\"\"\"\n",
    "\n",
    "import copy\n",
    "test_labels_copy = copy.copy(test_labels)\n",
    "np.random.shuffle(test_labels_copy)\n",
    "hits_array = np.array(test_labels) == np.array(test_labels_copy)\n",
    "\n",
    "print(hits_array)\n",
    "print(float(np.sum(hits_array)) / len(test_labels))"
   ]
  },
  {
   "cell_type": "markdown",
   "metadata": {},
   "source": [
    "<h3>Generating predictions on new data</h3>\n",
    "\n",
    "You can verify that the predict method of the model instance returns a probability distribution over all 46 topics. Let's generate topic predictions for all of the test data."
   ]
  },
  {
   "cell_type": "code",
   "execution_count": 22,
   "metadata": {},
   "outputs": [],
   "source": [
    "# Generating predictions for new data\n",
    "\n",
    "predictions = model.predict(x_test)"
   ]
  },
  {
   "cell_type": "code",
   "execution_count": 23,
   "metadata": {},
   "outputs": [
    {
     "name": "stdout",
     "output_type": "stream",
     "text": [
      "(46,)\n"
     ]
    }
   ],
   "source": [
    "# Each entry in predictions is a vector of length 46\n",
    "\n",
    "print(predictions[0].shape)"
   ]
  },
  {
   "cell_type": "code",
   "execution_count": 24,
   "metadata": {},
   "outputs": [
    {
     "name": "stdout",
     "output_type": "stream",
     "text": [
      "1.0000001\n"
     ]
    }
   ],
   "source": [
    "# The coefficients in this vector sum up to 1 (or close)\n",
    "\n",
    "print(np.sum(predictions[0]))"
   ]
  },
  {
   "cell_type": "code",
   "execution_count": 25,
   "metadata": {},
   "outputs": [
    {
     "name": "stdout",
     "output_type": "stream",
     "text": [
      "3\n"
     ]
    }
   ],
   "source": [
    "# The largest entry is the predicted class - the class with the highest probability\n",
    "\n",
    "print(np.argmax(predictions[0]))"
   ]
  },
  {
   "cell_type": "markdown",
   "metadata": {},
   "source": [
    "<h3>A different way to handle the labels and the loss</h3>\n",
    "\n",
    "We mentioned earlier that another way to encode the labels would be to cast them as an integer tensor, like this:"
   ]
  },
  {
   "cell_type": "code",
   "execution_count": 26,
   "metadata": {},
   "outputs": [],
   "source": [
    "x_train = np.array(train_labels)\n",
    "y_test = np.array(test_labels)"
   ]
  },
  {
   "cell_type": "markdown",
   "metadata": {},
   "source": [
    "The only thing this approach would change is the choice of the loss function. The loss function categorical_crossentropy expects the labels to follow a categorical encoding. The integer labels, you should use sparse_categorical_crossentropy."
   ]
  },
  {
   "cell_type": "code",
   "execution_count": 29,
   "metadata": {},
   "outputs": [],
   "source": [
    "model.compile(optimizer='rmsprop',\n",
    "              loss='sparse_categorical_crossentropy',\n",
    "              metrics=['acc'])\n",
    "\n",
    "# This new loss function is still mathematically the same as categorical_crossentropy,\n",
    "# it just has a different interface."
   ]
  },
  {
   "cell_type": "markdown",
   "metadata": {},
   "source": [
    "We mentioned earlier that because the final outputs are 46-dimensional, you should avoid intermediate layers with many fewer than 46 hidden units. Let's see what happens when you introduce an information bottleneck by having intermediate layers that are significantly less than 46-dimensional: for example, 4-dimensional."
   ]
  },
  {
   "cell_type": "code",
   "execution_count": 30,
   "metadata": {},
   "outputs": [
    {
     "name": "stdout",
     "output_type": "stream",
     "text": [
      "Train on 7982 samples, validate on 1000 samples\n",
      "Epoch 1/20\n",
      "7982/7982 [==============================] - 1s 186us/step - loss: 3.2622 - accuracy: 0.0748 - val_loss: 2.7406 - val_accuracy: 0.2340\n",
      "Epoch 2/20\n",
      "7982/7982 [==============================] - 1s 163us/step - loss: 2.1609 - accuracy: 0.4724 - val_loss: 1.7474 - val_accuracy: 0.5750\n",
      "Epoch 3/20\n",
      "7982/7982 [==============================] - 1s 164us/step - loss: 1.5836 - accuracy: 0.5827 - val_loss: 1.5375 - val_accuracy: 0.5810\n",
      "Epoch 4/20\n",
      "7982/7982 [==============================] - 1s 167us/step - loss: 1.3638 - accuracy: 0.6391 - val_loss: 1.4168 - val_accuracy: 0.6490\n",
      "Epoch 5/20\n",
      "7982/7982 [==============================] - 1s 175us/step - loss: 1.1998 - accuracy: 0.6926 - val_loss: 1.3473 - val_accuracy: 0.6800\n",
      "Epoch 6/20\n",
      "7982/7982 [==============================] - 1s 177us/step - loss: 1.0732 - accuracy: 0.7221 - val_loss: 1.3169 - val_accuracy: 0.6930\n",
      "Epoch 7/20\n",
      "7982/7982 [==============================] - 1s 165us/step - loss: 0.9658 - accuracy: 0.7516 - val_loss: 1.2771 - val_accuracy: 0.7060\n",
      "Epoch 8/20\n",
      "7982/7982 [==============================] - 1s 159us/step - loss: 0.8757 - accuracy: 0.7719 - val_loss: 1.2833 - val_accuracy: 0.7150\n",
      "Epoch 9/20\n",
      "7982/7982 [==============================] - 1s 166us/step - loss: 0.7956 - accuracy: 0.8038 - val_loss: 1.2774 - val_accuracy: 0.7220\n",
      "Epoch 10/20\n",
      "7982/7982 [==============================] - 1s 158us/step - loss: 0.7261 - accuracy: 0.8202 - val_loss: 1.3011 - val_accuracy: 0.7240\n",
      "Epoch 11/20\n",
      "7982/7982 [==============================] - 1s 156us/step - loss: 0.6674 - accuracy: 0.8282 - val_loss: 1.3272 - val_accuracy: 0.7320\n",
      "Epoch 12/20\n",
      "7982/7982 [==============================] - 1s 159us/step - loss: 0.6201 - accuracy: 0.8346 - val_loss: 1.3613 - val_accuracy: 0.7250\n",
      "Epoch 13/20\n",
      "7982/7982 [==============================] - 1s 161us/step - loss: 0.5782 - accuracy: 0.8464 - val_loss: 1.3930 - val_accuracy: 0.7260\n",
      "Epoch 14/20\n",
      "7982/7982 [==============================] - 1s 157us/step - loss: 0.5420 - accuracy: 0.8540 - val_loss: 1.4207 - val_accuracy: 0.7190\n",
      "Epoch 15/20\n",
      "7982/7982 [==============================] - 1s 156us/step - loss: 0.5109 - accuracy: 0.8612 - val_loss: 1.4618 - val_accuracy: 0.7270\n",
      "Epoch 16/20\n",
      "7982/7982 [==============================] - 1s 159us/step - loss: 0.4848 - accuracy: 0.8692 - val_loss: 1.5278 - val_accuracy: 0.7150\n",
      "Epoch 17/20\n",
      "7982/7982 [==============================] - 1s 161us/step - loss: 0.4576 - accuracy: 0.8761 - val_loss: 1.5221 - val_accuracy: 0.7210\n",
      "Epoch 18/20\n",
      "7982/7982 [==============================] - 1s 155us/step - loss: 0.4354 - accuracy: 0.8831 - val_loss: 1.5923 - val_accuracy: 0.7160\n",
      "Epoch 19/20\n",
      "7982/7982 [==============================] - 1s 157us/step - loss: 0.4196 - accuracy: 0.8890 - val_loss: 1.6182 - val_accuracy: 0.7210\n",
      "Epoch 20/20\n",
      "7982/7982 [==============================] - 1s 158us/step - loss: 0.4009 - accuracy: 0.8903 - val_loss: 1.6478 - val_accuracy: 0.7180\n"
     ]
    },
    {
     "data": {
      "text/plain": [
       "<keras.callbacks.callbacks.History at 0x18ed51f09b0>"
      ]
     },
     "execution_count": 30,
     "metadata": {},
     "output_type": "execute_result"
    }
   ],
   "source": [
    "# A model with an information bottleneck\n",
    "\n",
    "model = models.Sequential()\n",
    "model.add(layers.Dense(64, activation='relu', input_shape=(10000,)))\n",
    "model.add(layers.Dense(4, activation='relu'))\n",
    "model.add(layers.Dense(46, activation='softmax'))\n",
    "\n",
    "model.compile(optimizer='rmsprop',\n",
    "              loss='categorical_crossentropy',\n",
    "              metrics=['accuracy'])\n",
    "\n",
    "model.fit(partial_x_train,\n",
    "          partial_y_train,\n",
    "          epochs=20,\n",
    "          batch_size=128,\n",
    "          validation_data=(x_val, y_val))"
   ]
  },
  {
   "cell_type": "markdown",
   "metadata": {},
   "source": [
    "The network experiences a 10% drop in validation accuracy. This is mostly due to the fact that you're trying to compress a lot of information into an intermediate space that is too low-dimensional. The network is able to cram most of the necessary information into these eight-dimensional representations, but not all of it."
   ]
  },
  {
   "cell_type": "code",
   "execution_count": null,
   "metadata": {},
   "outputs": [],
   "source": []
  }
 ],
 "metadata": {
  "kernelspec": {
   "display_name": "Python 3",
   "language": "python",
   "name": "python3"
  },
  "language_info": {
   "codemirror_mode": {
    "name": "ipython",
    "version": 3
   },
   "file_extension": ".py",
   "mimetype": "text/x-python",
   "name": "python",
   "nbconvert_exporter": "python",
   "pygments_lexer": "ipython3",
   "version": "3.7.3"
  }
 },
 "nbformat": 4,
 "nbformat_minor": 2
}
