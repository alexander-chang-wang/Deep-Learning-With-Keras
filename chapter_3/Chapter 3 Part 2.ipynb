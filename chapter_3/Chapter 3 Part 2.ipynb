{
 "cells": [
  {
   "cell_type": "code",
   "execution_count": 1,
   "metadata": {},
   "outputs": [],
   "source": [
    "\"\"\" Part 2 \"\"\""
   ]
  },
  {
   "cell_type": "code",
   "execution_count": 2,
   "metadata": {},
   "outputs": [
    {
     "name": "stderr",
     "output_type": "stream",
     "text": [
      "Using TensorFlow backend.\n"
     ]
    }
   ],
   "source": [
    "# Loading the IMDB dataset\n",
    "\n",
    "from keras.datasets import imdb\n",
    "\n",
    "(train_data, train_labels), (test_data, test_labels) = imdb.load_data(num_words=10000)"
   ]
  },
  {
   "cell_type": "code",
   "execution_count": 3,
   "metadata": {},
   "outputs": [
    {
     "name": "stdout",
     "output_type": "stream",
     "text": [
      "[1, 14, 22, 16, 43, 530, 973, 1622, 1385, 65, 458, 4468, 66, 3941, 4, 173, 36, 256, 5, 25, 100, 43, 838, 112, 50, 670, 2, 9, 35, 480, 284, 5, 150, 4, 172, 112, 167, 2, 336, 385, 39, 4, 172, 4536, 1111, 17, 546, 38, 13, 447, 4, 192, 50, 16, 6, 147, 2025, 19, 14, 22, 4, 1920, 4613, 469, 4, 22, 71, 87, 12, 16, 43, 530, 38, 76, 15, 13, 1247, 4, 22, 17, 515, 17, 12, 16, 626, 18, 2, 5, 62, 386, 12, 8, 316, 8, 106, 5, 4, 2223, 5244, 16, 480, 66, 3785, 33, 4, 130, 12, 16, 38, 619, 5, 25, 124, 51, 36, 135, 48, 25, 1415, 33, 6, 22, 12, 215, 28, 77, 52, 5, 14, 407, 16, 82, 2, 8, 4, 107, 117, 5952, 15, 256, 4, 2, 7, 3766, 5, 723, 36, 71, 43, 530, 476, 26, 400, 317, 46, 7, 4, 2, 1029, 13, 104, 88, 4, 381, 15, 297, 98, 32, 2071, 56, 26, 141, 6, 194, 7486, 18, 4, 226, 22, 21, 134, 476, 26, 480, 5, 144, 30, 5535, 18, 51, 36, 28, 224, 92, 25, 104, 4, 226, 65, 16, 38, 1334, 88, 12, 16, 283, 5, 16, 4472, 113, 103, 32, 15, 16, 5345, 19, 178, 32]\n",
      "1\n"
     ]
    }
   ],
   "source": [
    "# Make sure the data is right\n",
    "\n",
    "print(train_data[0])\n",
    "print(train_labels[0])"
   ]
  },
  {
   "cell_type": "code",
   "execution_count": 5,
   "metadata": {},
   "outputs": [
    {
     "name": "stdout",
     "output_type": "stream",
     "text": [
      "9999\n"
     ]
    }
   ],
   "source": [
    "# Make sure no work index will exceed 10,000\n",
    "\n",
    "print(max([max(sequence) for sequence in train_data]))"
   ]
  },
  {
   "cell_type": "code",
   "execution_count": 6,
   "metadata": {},
   "outputs": [],
   "source": [
    "# Vectorize the data\n",
    "# Encoding the integer sequences into a binary matrix\n",
    "\n",
    "import numpy as np\n",
    "\n",
    "def vectorize_sequences(sequences, dimension=10000):\n",
    "    results = np.zeros((len(sequences), dimension))\n",
    "    for i, sequence in enumerate(sequences):\n",
    "        results[i, sequence] = 1.\n",
    "    return results\n",
    "\n",
    "x_train = vectorize_sequences(train_data)\n",
    "x_test = vectorize_sequences(test_data)\n",
    "\n",
    "y_train = np.asarray(train_labels).astype('float32')\n",
    "y_test = np.asarray(test_labels).astype('float32')"
   ]
  },
  {
   "cell_type": "code",
   "execution_count": 8,
   "metadata": {},
   "outputs": [
    {
     "name": "stdout",
     "output_type": "stream",
     "text": [
      "WARNING:tensorflow:From C:\\Users\\3skis\\Anaconda3\\lib\\site-packages\\tensorflow\\python\\ops\\resource_variable_ops.py:435: colocate_with (from tensorflow.python.framework.ops) is deprecated and will be removed in a future version.\n",
      "Instructions for updating:\n",
      "Colocations handled automatically by placer.\n"
     ]
    }
   ],
   "source": [
    "# The model definition\n",
    "\n",
    "from keras import models\n",
    "from keras import layers\n",
    "\n",
    "model = models.Sequential()\n",
    "model.add(layers.Dense(16, activation='relu', input_shape=(10000,)))\n",
    "model.add(layers.Dense(16, activation='relu'))\n",
    "model.add(layers.Dense(1, activation='sigmoid'))"
   ]
  },
  {
   "cell_type": "code",
   "execution_count": 9,
   "metadata": {},
   "outputs": [],
   "source": [
    "# Compiling the model\n",
    "\n",
    "model.compile(optimizer='rmsprop',\n",
    "              loss='binary_crossentropy',\n",
    "              metrics=['accuracy'])"
   ]
  },
  {
   "cell_type": "code",
   "execution_count": 10,
   "metadata": {},
   "outputs": [],
   "source": [
    "# Configuring the optimizer\n",
    "\n",
    "from keras import optimizers\n",
    "\n",
    "model.compile(optimizer=optimizers.RMSprop(lr=0.01),\n",
    "              loss='binary_crossentropy',\n",
    "              metrics=['accuracy'])"
   ]
  },
  {
   "cell_type": "code",
   "execution_count": 11,
   "metadata": {},
   "outputs": [],
   "source": [
    "# Using custom losses and metrics\n",
    "\n",
    "from keras import losses\n",
    "from keras import metrics\n",
    "\n",
    "model.compile(optimizer=optimizers.RMSprop(lr=0.001),\n",
    "              loss=losses.binary_crossentropy,\n",
    "              metrics=[metrics.binary_accuracy])"
   ]
  },
  {
   "cell_type": "code",
   "execution_count": 12,
   "metadata": {},
   "outputs": [],
   "source": [
    "# Setting aside a validation set\n",
    "\n",
    "x_val = x_train[:10000]\n",
    "partial_x_train = x_train[10000:]\n",
    "\n",
    "y_val = y_train[:10000]\n",
    "partial_y_train = y_train[10000:]"
   ]
  },
  {
   "cell_type": "code",
   "execution_count": 14,
   "metadata": {},
   "outputs": [
    {
     "name": "stdout",
     "output_type": "stream",
     "text": [
      "WARNING:tensorflow:From C:\\Users\\3skis\\Anaconda3\\lib\\site-packages\\tensorflow\\python\\ops\\math_ops.py:3066: to_int32 (from tensorflow.python.ops.math_ops) is deprecated and will be removed in a future version.\n",
      "Instructions for updating:\n",
      "Use tf.cast instead.\n",
      "Train on 15000 samples, validate on 10000 samples\n",
      "Epoch 1/20\n",
      "15000/15000 [==============================] - 3s 174us/step - loss: 0.5308 - acc: 0.7792 - val_loss: 0.4038 - val_acc: 0.8700\n",
      "Epoch 2/20\n",
      "15000/15000 [==============================] - 2s 151us/step - loss: 0.3214 - acc: 0.9031 - val_loss: 0.3215 - val_acc: 0.8820\n",
      "Epoch 3/20\n",
      "15000/15000 [==============================] - 2s 144us/step - loss: 0.2339 - acc: 0.9270 - val_loss: 0.2817 - val_acc: 0.8901\n",
      "Epoch 4/20\n",
      "15000/15000 [==============================] - 2s 145us/step - loss: 0.1819 - acc: 0.9431 - val_loss: 0.3156 - val_acc: 0.8747\n",
      "Epoch 5/20\n",
      "15000/15000 [==============================] - 2s 141us/step - loss: 0.1479 - acc: 0.9520 - val_loss: 0.2820 - val_acc: 0.8874\n",
      "Epoch 6/20\n",
      "15000/15000 [==============================] - 2s 141us/step - loss: 0.1234 - acc: 0.9608 - val_loss: 0.2977 - val_acc: 0.8821\n",
      "Epoch 7/20\n",
      "15000/15000 [==============================] - 2s 141us/step - loss: 0.1009 - acc: 0.9701 - val_loss: 0.3143 - val_acc: 0.8826\n",
      "Epoch 8/20\n",
      "15000/15000 [==============================] - 2s 140us/step - loss: 0.0858 - acc: 0.9743 - val_loss: 0.3235 - val_acc: 0.8824\n",
      "Epoch 9/20\n",
      "15000/15000 [==============================] - 2s 139us/step - loss: 0.0702 - acc: 0.9815 - val_loss: 0.3448 - val_acc: 0.8796\n",
      "Epoch 10/20\n",
      "15000/15000 [==============================] - 2s 140us/step - loss: 0.0574 - acc: 0.9858 - val_loss: 0.3920 - val_acc: 0.8702\n",
      "Epoch 11/20\n",
      "15000/15000 [==============================] - 2s 141us/step - loss: 0.0477 - acc: 0.9883 - val_loss: 0.3934 - val_acc: 0.8780\n",
      "Epoch 12/20\n",
      "15000/15000 [==============================] - 2s 140us/step - loss: 0.0382 - acc: 0.9916 - val_loss: 0.4296 - val_acc: 0.8706\n",
      "Epoch 13/20\n",
      "15000/15000 [==============================] - 2s 141us/step - loss: 0.0299 - acc: 0.9948 - val_loss: 0.4954 - val_acc: 0.8642\n",
      "Epoch 14/20\n",
      "15000/15000 [==============================] - 2s 141us/step - loss: 0.0254 - acc: 0.9951 - val_loss: 0.4811 - val_acc: 0.8736\n",
      "Epoch 15/20\n",
      "15000/15000 [==============================] - 2s 139us/step - loss: 0.0202 - acc: 0.9967 - val_loss: 0.5106 - val_acc: 0.8720\n",
      "Epoch 16/20\n",
      "15000/15000 [==============================] - 2s 140us/step - loss: 0.0144 - acc: 0.9984 - val_loss: 0.5467 - val_acc: 0.8690\n",
      "Epoch 17/20\n",
      "15000/15000 [==============================] - 2s 139us/step - loss: 0.0124 - acc: 0.9985 - val_loss: 0.5784 - val_acc: 0.8675\n",
      "Epoch 18/20\n",
      "15000/15000 [==============================] - 2s 139us/step - loss: 0.0107 - acc: 0.9985 - val_loss: 0.6117 - val_acc: 0.8669\n",
      "Epoch 19/20\n",
      "15000/15000 [==============================] - 2s 139us/step - loss: 0.0077 - acc: 0.9992 - val_loss: 0.6935 - val_acc: 0.8559\n",
      "Epoch 20/20\n",
      "15000/15000 [==============================] - 2s 140us/step - loss: 0.0045 - acc: 0.9999 - val_loss: 0.6681 - val_acc: 0.8629\n"
     ]
    }
   ],
   "source": [
    "# Training the model\n",
    "\n",
    "model.compile(optimizer='rmsprop',\n",
    "              loss='binary_crossentropy',\n",
    "              metrics=['acc'])\n",
    "\n",
    "history = model.fit(partial_x_train,\n",
    "                    partial_y_train,\n",
    "                    epochs=20,\n",
    "                    batch_size=512,\n",
    "                    validation_data=(x_val, y_val))"
   ]
  },
  {
   "cell_type": "code",
   "execution_count": 15,
   "metadata": {},
   "outputs": [
    {
     "name": "stdout",
     "output_type": "stream",
     "text": [
      "dict_keys(['val_loss', 'val_acc', 'loss', 'acc'])\n"
     ]
    }
   ],
   "source": [
    "# Look at the History object data\n",
    "\n",
    "history_dict = history.history\n",
    "print(history_dict.keys())"
   ]
  },
  {
   "cell_type": "code",
   "execution_count": 17,
   "metadata": {},
   "outputs": [
    {
     "data": {
      "image/png": "[encoded data removed]",
      "text/plain": [
       "<Figure size 432x288 with 1 Axes>"
      ]
     },
     "metadata": {
      "needs_background": "light"
     },
     "output_type": "display_data"
    }
   ],
   "source": [
    "# Plotting the training and validation loss\n",
    "\n",
    "import matplotlib.pyplot as plt\n",
    "\n",
    "history_dict = history.history\n",
    "loss_values = history_dict['loss']\n",
    "val_loss_values = history_dict['val_loss']\n",
    "\n",
    "epochs = range(1, len(history_dict['acc']) + 1)\n",
    "\n",
    "plt.plot(epochs, loss_values, 'bo', label='Training loss')\n",
    "plt.plot(epochs, val_loss_values, 'b', label='Validation loss')\n",
    "plt.title('Training and validation loss')\n",
    "plt.xlabel('Epochs')\n",
    "plt.ylabel('Loss')\n",
    "plt.legend()\n",
    "\n",
    "plt.show()"
   ]
  },
  {
   "cell_type": "code",
   "execution_count": 18,
   "metadata": {},
   "outputs": [
    {
     "data": {
      "image/png": "[encoded data removed]",
      "text/plain": [
       "<Figure size 432x288 with 1 Axes>"
      ]
     },
     "metadata": {
      "needs_background": "light"
     },
     "output_type": "display_data"
    }
   ],
   "source": [
    "# Plotting the training and validation accuracy\n",
    "\n",
    "plt.clf()\n",
    "acc_values = history_dict['acc']\n",
    "val_acc_values = history_dict['val_acc']\n",
    "\n",
    "plt.plot(epochs, acc_values, 'bo', label='Training acc')\n",
    "plt.plot(epochs, val_acc_values, 'b', label='Validation acc')\n",
    "plt.title('Training and validation accuracy')\n",
    "plt.xlabel('Epochs')\n",
    "plt.ylabel('Loss')\n",
    "plt.legend()\n",
    "\n",
    "plt.show()"
   ]
  },
  {
   "cell_type": "code",
   "execution_count": 20,
   "metadata": {},
   "outputs": [
    {
     "name": "stdout",
     "output_type": "stream",
     "text": [
      "Epoch 1/4\n",
      "25000/25000 [==============================] - 3s 104us/step - loss: 0.4574 - accuracy: 0.8230\n",
      "Epoch 2/4\n",
      "25000/25000 [==============================] - 2s 94us/step - loss: 0.2574 - accuracy: 0.9084\n",
      "Epoch 3/4\n",
      "25000/25000 [==============================] - 2s 95us/step - loss: 0.1969 - accuracy: 0.9290\n",
      "Epoch 4/4\n",
      "25000/25000 [==============================] - 2s 94us/step - loss: 0.1665 - accuracy: 0.9409\n",
      "25000/25000 [==============================] - 2s 98us/step\n"
     ]
    }
   ],
   "source": [
    "# Retraining a model from scratch\n",
    "\n",
    "model = models.Sequential()\n",
    "model.add(layers.Dense(16, activation='relu', input_shape=(10000,)))\n",
    "model.add(layers.Dense(16, activation='relu'))\n",
    "model.add(layers.Dense(1, activation='sigmoid'))\n",
    "\n",
    "model.compile(optimizer='rmsprop',\n",
    "              loss='binary_crossentropy',\n",
    "              metrics=['accuracy'])\n",
    "\n",
    "model.fit(x_train, y_train, epochs=4, batch_size=512)\n",
    "results = model.evaluate(x_test, y_test)"
   ]
  },
  {
   "cell_type": "code",
   "execution_count": 21,
   "metadata": {},
   "outputs": [
    {
     "name": "stdout",
     "output_type": "stream",
     "text": [
      "[0.2960368203735352, 0.8840799927711487]\n"
     ]
    }
   ],
   "source": [
    "# Print out the results\n",
    "\n",
    "print(results)"
   ]
  },
  {
   "cell_type": "code",
   "execution_count": 24,
   "metadata": {},
   "outputs": [
    {
     "name": "stdout",
     "output_type": "stream",
     "text": [
      "[0.22951892]\n",
      "[0.9995199]\n",
      "[0.95058644]\n",
      "[0.8479811]\n",
      "[0.96451575]\n",
      "[0.83710885]\n",
      "[0.9996842]\n",
      "[0.00751388]\n",
      "[0.96824634]\n",
      "[0.99209034]\n",
      "[0.96898794]\n",
      "[0.01111126]\n",
      "[0.00014076]\n",
      "[0.07813624]\n",
      "[0.9917291]\n",
      "[6.765127e-06]\n",
      "[0.9374752]\n",
      "[0.8345111]\n",
      "[0.00225261]\n",
      "[0.03749222]\n",
      "[0.9957309]\n",
      "[0.99091756]\n",
      "[0.34306312]\n",
      "[0.92097795]\n",
      "[0.9083121]\n",
      "[0.9886076]\n",
      "[0.04541481]\n",
      "[0.96455]\n",
      "[0.9776981]\n",
      "[2.399087e-05]\n",
      "[0.9782593]\n",
      "[0.1835194]\n",
      "[0.9204429]\n",
      "[4.7683716e-07]\n",
      "[0.00855434]\n",
      "[0.00615135]\n",
      "[0.9981961]\n",
      "[0.96828747]\n",
      "[0.17146692]\n",
      "[0.00683674]\n",
      "[0.9953874]\n",
      "[0.99947226]\n",
      "[0.01176322]\n",
      "[0.92364454]\n",
      "[0.99984753]\n",
      "[0.9646946]\n",
      "[0.02602562]\n",
      "[0.00045174]\n",
      "[0.00596392]\n",
      "[0.43121913]\n",
      "[0.00194764]\n",
      "[0.3525753]\n",
      "[0.80911976]\n",
      "[0.9595634]\n",
      "[0.9077723]\n",
      "[0.41638502]\n",
      "[0.6037676]\n",
      "[0.82955587]\n",
      "[0.00155258]\n",
      "[0.66874623]\n",
      "[0.1802283]\n",
      "[0.05815923]\n",
      "[0.93792605]\n",
      "[0.06121632]\n",
      "[0.0152649]\n",
      "[0.99827766]\n",
      "[0.08688778]\n",
      "[0.9775981]\n",
      "[0.99745494]\n",
      "[0.9337425]\n",
      "[0.95011306]\n",
      "[0.99388814]\n",
      "[0.69152004]\n",
      "[0.01676565]\n",
      "[0.02077189]\n",
      "[0.32473493]\n",
      "[0.00198975]\n",
      "[0.9519081]\n",
      "[0.90943426]\n",
      "[0.07271668]\n",
      "[0.5800416]\n",
      "[0.15913212]\n",
      "[0.55945927]\n",
      "[0.89566076]\n",
      "[0.0023413]\n",
      "[0.00061652]\n",
      "[0.023812]\n",
      "[0.8956793]\n",
      "[0.01819977]\n",
      "[0.9153109]\n",
      "[0.99980277]\n",
      "[0.5748301]\n",
      "[0.03291056]\n",
      "[0.9998784]\n",
      "[0.99936175]\n",
      "[0.08248782]\n",
      "[0.96559966]\n",
      "[0.9823054]\n",
      "[0.050807]\n",
      "[0.001223]\n"
     ]
    }
   ],
   "source": [
    "\"\"\"\n",
    "After having trained a network, you'll want to use it in a practical setting.\n",
    "You can generate the likelihood of reviews being positive by using the predict\n",
    "method.\n",
    "\"\"\"\n",
    "\n",
    "prediction_output = model.predict(x_test)\n",
    "\n",
    "# There's too many numbers in the list, let's just print out the first\n",
    "# 100 entries\n",
    "for i in range(100):\n",
    "    print(prediction_output[i])"
   ]
  }
 ],
 "metadata": {
  "kernelspec": {
   "display_name": "Python 3",
   "language": "python",
   "name": "python3"
  },
  "language_info": {
   "codemirror_mode": {
    "name": "ipython",
    "version": 3
   },
   "file_extension": ".py",
   "mimetype": "text/x-python",
   "name": "python",
   "nbconvert_exporter": "python",
   "pygments_lexer": "ipython3",
   "version": "3.7.3"
  }
 },
 "nbformat": 4,
 "nbformat_minor": 2
}
