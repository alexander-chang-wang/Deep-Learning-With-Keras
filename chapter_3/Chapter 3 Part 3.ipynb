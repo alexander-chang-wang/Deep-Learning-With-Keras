{
 "cells": [
  {
   "cell_type": "code",
   "execution_count": 1,
   "metadata": {},
   "outputs": [
    {
     "name": "stderr",
     "output_type": "stream",
     "text": [
      "Using TensorFlow backend.\n"
     ]
    }
   ],
   "source": [
    "\"\"\"\n",
    "Load the IMDB dataset\n",
    "\n",
    "Use 32 hidden units per layer instead of 16\n",
    "Use the mse loss function instead of binary_crossentropy\n",
    "Use the tanh activation function instead of relu\n",
    "\"\"\"\n",
    "\n",
    "HIDDEN_LAYERS = 3\n",
    "NUM_UNITS = 32\n",
    "LOSS_FUNCTION = 'mse'\n",
    "ACTIVATION = 'tanh'\n",
    "\n",
    "from keras.datasets import imdb\n",
    "\n",
    "(train_data, train_labels), (test_data, test_labels) = imdb.load_data(num_words=10000)"
   ]
  },
  {
   "cell_type": "code",
   "execution_count": 2,
   "metadata": {},
   "outputs": [],
   "source": [
    "# Encoding the integer sequences into a binary matrix\n",
    "\n",
    "import numpy as np\n",
    "\n",
    "def vectorize_sequences(sequences, dimension=10000):\n",
    "    results = np.zeros((len(sequences), dimension))\n",
    "    for i, sequence in enumerate(sequences):\n",
    "        results[i, sequence] = 1.\n",
    "    return results\n",
    "\n",
    "x_train = vectorize_sequences(train_data)\n",
    "x_test = vectorize_sequences(test_data)\n",
    "\n",
    "y_train = np.asarray(train_labels).astype('float32')\n",
    "y_test = np.asarray(test_labels).astype('float32')"
   ]
  },
  {
   "cell_type": "code",
   "execution_count": 3,
   "metadata": {},
   "outputs": [
    {
     "name": "stdout",
     "output_type": "stream",
     "text": [
      "WARNING:tensorflow:From C:\\Users\\3skis\\Anaconda3\\lib\\site-packages\\tensorflow\\python\\ops\\resource_variable_ops.py:435: colocate_with (from tensorflow.python.framework.ops) is deprecated and will be removed in a future version.\n",
      "Instructions for updating:\n",
      "Colocations handled automatically by placer.\n"
     ]
    }
   ],
   "source": [
    "# The model definition\n",
    "\n",
    "from keras import models\n",
    "from keras import layers\n",
    "\n",
    "model = models.Sequential()\n",
    "model.add(layers.Dense(NUM_UNITS, activation=ACTIVATION, input_shape=(10000,)))\n",
    "model.add(layers.Dense(NUM_UNITS, activation=ACTIVATION))\n",
    "model.add(layers.Dense(1, activation='sigmoid'))"
   ]
  },
  {
   "cell_type": "code",
   "execution_count": 4,
   "metadata": {},
   "outputs": [],
   "source": [
    "# Compiling the model\n",
    "\n",
    "model.compile(optimizer='rmsprop',\n",
    "              loss=LOSS_FUNCTION,\n",
    "              metrics=['accuracy'])"
   ]
  },
  {
   "cell_type": "code",
   "execution_count": 5,
   "metadata": {},
   "outputs": [],
   "source": [
    "# Configuring the optimizer\n",
    "\n",
    "from keras import optimizers\n",
    "\n",
    "model.compile(optimizer=optimizers.RMSprop(lr=0.001),\n",
    "              loss=LOSS_FUNCTION,\n",
    "              metrics=['accuracy'])"
   ]
  },
  {
   "cell_type": "code",
   "execution_count": 6,
   "metadata": {},
   "outputs": [],
   "source": [
    "# Using custom losses and metrics\n",
    "\n",
    "from keras import losses\n",
    "from keras import metrics\n",
    "\n",
    "model.compile(optimizer=optimizers.RMSprop(lr=0.001),\n",
    "              loss=losses.mse,\n",
    "              metrics=[metrics.binary_accuracy])"
   ]
  },
  {
   "cell_type": "code",
   "execution_count": 7,
   "metadata": {},
   "outputs": [],
   "source": [
    "# Setting aside a validation set\n",
    "\n",
    "x_val = x_train[:10000]\n",
    "partial_x_train = x_train[10000:]\n",
    "\n",
    "y_val = y_train[:10000]\n",
    "partial_y_train = y_train[10000:]"
   ]
  },
  {
   "cell_type": "code",
   "execution_count": 8,
   "metadata": {},
   "outputs": [
    {
     "name": "stdout",
     "output_type": "stream",
     "text": [
      "WARNING:tensorflow:From C:\\Users\\3skis\\Anaconda3\\lib\\site-packages\\tensorflow\\python\\ops\\math_ops.py:3066: to_int32 (from tensorflow.python.ops.math_ops) is deprecated and will be removed in a future version.\n",
      "Instructions for updating:\n",
      "Use tf.cast instead.\n",
      "Train on 15000 samples, validate on 10000 samples\n",
      "Epoch 1/20\n",
      "15000/15000 [==============================] - 3s 173us/step - loss: 0.1516 - acc: 0.7900 - val_loss: 0.0988 - val_acc: 0.8742\n",
      "Epoch 2/20\n",
      "15000/15000 [==============================] - 2s 149us/step - loss: 0.0715 - acc: 0.9091 - val_loss: 0.1005 - val_acc: 0.8629\n",
      "Epoch 3/20\n",
      "15000/15000 [==============================] - 2s 166us/step - loss: 0.0507 - acc: 0.9358 - val_loss: 0.1007 - val_acc: 0.8645\n",
      "Epoch 4/20\n",
      "15000/15000 [==============================] - 3s 177us/step - loss: 0.0401 - acc: 0.9487 - val_loss: 0.0930 - val_acc: 0.8785\n",
      "Epoch 5/20\n",
      "15000/15000 [==============================] - 2s 158us/step - loss: 0.0293 - acc: 0.9648 - val_loss: 0.0980 - val_acc: 0.8764\n",
      "Epoch 6/20\n",
      "15000/15000 [==============================] - 2s 152us/step - loss: 0.0248 - acc: 0.9697 - val_loss: 0.0956 - val_acc: 0.8810\n",
      "Epoch 7/20\n",
      "15000/15000 [==============================] - 2s 157us/step - loss: 0.0209 - acc: 0.9751 - val_loss: 0.1052 - val_acc: 0.8724\n",
      "Epoch 8/20\n",
      "15000/15000 [==============================] - 2s 157us/step - loss: 0.0187 - acc: 0.9783 - val_loss: 0.1102 - val_acc: 0.8672\n",
      "Epoch 9/20\n",
      "15000/15000 [==============================] - 2s 158us/step - loss: 0.0157 - acc: 0.9827 - val_loss: 0.1131 - val_acc: 0.8661\n",
      "Epoch 10/20\n",
      "15000/15000 [==============================] - 2s 158us/step - loss: 0.0135 - acc: 0.9843 - val_loss: 0.1148 - val_acc: 0.8661\n",
      "Epoch 11/20\n",
      "15000/15000 [==============================] - 2s 158us/step - loss: 0.0128 - acc: 0.9859 - val_loss: 0.1124 - val_acc: 0.8689\n",
      "Epoch 12/20\n",
      "15000/15000 [==============================] - 2s 158us/step - loss: 0.0095 - acc: 0.9901 - val_loss: 0.1143 - val_acc: 0.8696\n",
      "Epoch 13/20\n",
      "15000/15000 [==============================] - 3s 167us/step - loss: 0.0060 - acc: 0.9943 - val_loss: 0.1465 - val_acc: 0.8342\n",
      "Epoch 14/20\n",
      "15000/15000 [==============================] - 2s 155us/step - loss: 0.0109 - acc: 0.9877 - val_loss: 0.1161 - val_acc: 0.8692\n",
      "Epoch 15/20\n",
      "15000/15000 [==============================] - 2s 150us/step - loss: 0.0127 - acc: 0.9853 - val_loss: 0.1207 - val_acc: 0.8650\n",
      "Epoch 16/20\n",
      "15000/15000 [==============================] - 2s 151us/step - loss: 0.0052 - acc: 0.9949 - val_loss: 0.1173 - val_acc: 0.8688\n",
      "Epoch 17/20\n",
      "15000/15000 [==============================] - 2s 152us/step - loss: 0.0050 - acc: 0.9951 - val_loss: 0.1188 - val_acc: 0.8670\n",
      "Epoch 18/20\n",
      "15000/15000 [==============================] - 2s 150us/step - loss: 0.0117 - acc: 0.9869 - val_loss: 0.1199 - val_acc: 0.8653\n",
      "Epoch 19/20\n",
      "15000/15000 [==============================] - 2s 151us/step - loss: 0.0089 - acc: 0.9900 - val_loss: 0.1261 - val_acc: 0.8602\n",
      "Epoch 20/20\n",
      "15000/15000 [==============================] - 2s 151us/step - loss: 0.0050 - acc: 0.9951 - val_loss: 0.1221 - val_acc: 0.8644\n"
     ]
    }
   ],
   "source": [
    "# Training the model\n",
    "\n",
    "model.compile(optimizer='rmsprop',\n",
    "              loss=LOSS_FUNCTION,\n",
    "              metrics=['acc'])\n",
    "\n",
    "history = model.fit(partial_x_train,\n",
    "                    partial_y_train,\n",
    "                    epochs=20,\n",
    "                    batch_size=512,\n",
    "                    validation_data=(x_val, y_val))"
   ]
  },
  {
   "cell_type": "code",
   "execution_count": 11,
   "metadata": {},
   "outputs": [
    {
     "data": {
      "image/png": "[encoded data removed]",
      "text/plain": [
       "<Figure size 432x288 with 1 Axes>"
      ]
     },
     "metadata": {
      "needs_background": "light"
     },
     "output_type": "display_data"
    }
   ],
   "source": [
    "# Plotting the training and validation loss\n",
    "\n",
    "import matplotlib.pyplot as plt\n",
    "\n",
    "history_dict = history.history\n",
    "loss_values = history_dict['loss']\n",
    "val_loss_values = history_dict['val_loss']\n",
    "\n",
    "epochs = range(1, len(history_dict['acc']) + 1)\n",
    "\n",
    "plt.plot(epochs, loss_values, 'bo', label='Training loss')\n",
    "plt.plot(epochs, val_loss_values, 'b', label='Validation loss')\n",
    "plt.title('Training and validation loss')\n",
    "plt.xlabel('Epochs')\n",
    "plt.ylabel('Loss')\n",
    "plt.legend()\n",
    "\n",
    "plt.show()"
   ]
  },
  {
   "cell_type": "code",
   "execution_count": 10,
   "metadata": {},
   "outputs": [
    {
     "data": {
      "image/png": "[encoded data removed]",
      "text/plain": [
       "<Figure size 432x288 with 1 Axes>"
      ]
     },
     "metadata": {
      "needs_background": "light"
     },
     "output_type": "display_data"
    }
   ],
   "source": [
    "# Plotting the training and validation accuracy\n",
    "\n",
    "plt.clf()\n",
    "acc_values = history_dict['acc']\n",
    "val_acc_values = history_dict['val_acc']\n",
    "\n",
    "plt.plot(epochs, acc_values, 'bo', label='Training acc')\n",
    "plt.plot(epochs, val_acc_values, 'b', label='Validation acc')\n",
    "plt.title('Training and validation accuracy')\n",
    "plt.xlabel('Epochs')\n",
    "plt.ylabel('Loss')\n",
    "plt.legend()\n",
    "\n",
    "plt.show()"
   ]
  }
 ],
 "metadata": {
  "kernelspec": {
   "display_name": "Python 3",
   "language": "python",
   "name": "python3"
  },
  "language_info": {
   "codemirror_mode": {
    "name": "ipython",
    "version": 3
   },
   "file_extension": ".py",
   "mimetype": "text/x-python",
   "name": "python",
   "nbconvert_exporter": "python",
   "pygments_lexer": "ipython3",
   "version": "3.7.3"
  }
 },
 "nbformat": 4,
 "nbformat_minor": 2
}
